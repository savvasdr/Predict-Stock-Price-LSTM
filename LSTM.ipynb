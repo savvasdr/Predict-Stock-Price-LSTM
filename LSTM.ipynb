{
 "cells": [
  {
   "cell_type": "markdown",
   "metadata": {},
   "source": [
    "# Predicting EUR/USD pair using LSTM "
   ]
  },
  {
   "cell_type": "markdown",
   "metadata": {},
   "source": [
    "This is just an example of how it works.<br><br>\n",
    "The hyperparemeters that were selected for our best model:<br>\n",
    "    Test size: 20%<br>\n",
    "    Timesteps per Timeseries: 120<br>\n",
    "    Hidden Layers: 3<br>\n",
    "    Units per Layer: 100<br>\n",
    "    Batch Size: 128<br>\n",
    "    Dropout: 0%<br>\n",
    "    Optimizer: Adam<br>\n",
    "    Learning Rate: 0.001<br>\n",
    "    Loss Function: Mean Squared Error<br>\n",
    "    Epochs: 100<br><br>\n",
    "<b>Savvas Drosos & Nikolaos Karagkounis</b><br>\n",
    "Full report: <a href=\"https://github.com/savvasdr/Predict-Stock-Price-LSTM\" target=\"_blank\">https://github.com/savvasdr/Predict-Stock-Price-LSTM</a>"
   ]
  },
  {
   "cell_type": "markdown",
   "metadata": {},
   "source": [
    "## Part 1 - Data Preprocessing"
   ]
  },
  {
   "cell_type": "markdown",
   "metadata": {},
   "source": [
    "Importing the libraries"
   ]
  },
  {
   "cell_type": "code",
   "execution_count": 22,
   "metadata": {},
   "outputs": [],
   "source": [
    "import numpy as np\n",
    "import pandas as pd"
   ]
  },
  {
   "cell_type": "markdown",
   "metadata": {},
   "source": [
    "Importing the data set"
   ]
  },
  {
   "cell_type": "code",
   "execution_count": 23,
   "metadata": {},
   "outputs": [],
   "source": [
    "dataset = pd.read_csv('dataset.csv')"
   ]
  },
  {
   "cell_type": "markdown",
   "metadata": {},
   "source": [
    "Set basic parameters"
   ]
  },
  {
   "cell_type": "code",
   "execution_count": 24,
   "metadata": {},
   "outputs": [],
   "source": [
    "timesteps = 120\n",
    "test_size = 0.2"
   ]
  },
  {
   "cell_type": "markdown",
   "metadata": {},
   "source": [
    "Set hyperparemeters"
   ]
  },
  {
   "cell_type": "code",
   "execution_count": 41,
   "metadata": {},
   "outputs": [],
   "source": [
    "from keras.optimizers import Adam\n",
    "parameters = {'hidden_layers': [2],\n",
    "              'units_per_layer': [50],\n",
    "              'dropout': [0.0],\n",
    "              'batch_size': [128],\n",
    "              'epochs': [20],\n",
    "              'optimizer': [Adam(lr = 0.001)],\n",
    "              'loss': ['mean_squared_error'],\n",
    "              'metrics': ['accuracy']} "
   ]
  },
  {
   "cell_type": "markdown",
   "metadata": {},
   "source": [
    "### Processing the specific dataset"
   ]
  },
  {
   "cell_type": "markdown",
   "metadata": {},
   "source": [
    "The code an next assumes that the prediction(y) is the last column of the dataset. <br>\n",
    "If your dataset isn't ready, process it here."
   ]
  },
  {
   "cell_type": "markdown",
   "metadata": {},
   "source": [
    "<b>Convert dates to days</b><br>\n",
    "0 is Monday - 4 is Friday<br>\n",
    "Stock exchanges are closed on Weekends."
   ]
  },
  {
   "cell_type": "code",
   "execution_count": 28,
   "metadata": {},
   "outputs": [],
   "source": [
    "import datetime\n",
    "for i in range (0, dataset.shape[0]):\n",
    "    dataset.iloc[i,4] = datetime.datetime.strptime(dataset.iloc[i,4], '%m/%d/%Y').weekday()"
   ]
  },
  {
   "cell_type": "markdown",
   "metadata": {},
   "source": [
    "We don't need the 2 last columns and we have to make 'Price' column being the last column.<br>\n",
    "Swap 'Price' and \"RSI' columns."
   ]
  },
  {
   "cell_type": "code",
   "execution_count": 29,
   "metadata": {},
   "outputs": [],
   "source": [
    "for i in range (0, dataset.shape[0]):\n",
    "    dataset.iloc[i,16] = dataset.iloc[i,3]\n",
    "    dataset.iloc[i,3] = dataset.iloc[i,15]\n",
    "    dataset.iloc[i,15] = dataset.iloc[i,16]"
   ]
  },
  {
   "cell_type": "markdown",
   "metadata": {},
   "source": [
    "Delete the unused columns"
   ]
  },
  {
   "cell_type": "code",
   "execution_count": 30,
   "metadata": {},
   "outputs": [],
   "source": [
    "dataset = dataset.iloc[:,:16]"
   ]
  },
  {
   "cell_type": "markdown",
   "metadata": {},
   "source": [
    "<b>Feature Scaling - Normalization</b>"
   ]
  },
  {
   "cell_type": "code",
   "execution_count": 30,
   "metadata": {},
   "outputs": [],
   "source": [
    "from sklearn.preprocessing import MinMaxScaler\n",
    "sc = MinMaxScaler(feature_range = (0, 1))\n",
    "dataset_scaled = sc.fit_transform(dataset)"
   ]
  },
  {
   "cell_type": "markdown",
   "metadata": {},
   "source": [
    "<b>Creating a 3D data structure with [timesteps] timesteps and one output</b><br>\n",
    "[Samples, Timesteps, Features]<br>\n",
    "x_train(Z) = [Features(Z-1)]<br>\n",
    "y_train(Z) = [Feature(Z)]"
   ]
  },
  {
   "cell_type": "code",
   "execution_count": 32,
   "metadata": {},
   "outputs": [],
   "source": [
    "x = []\n",
    "y = []\n",
    "for i in range(timesteps, dataset_scaled.shape[0]):\n",
    "    x.append(dataset_scaled[i-timesteps:i, :dataset_scaled.shape[1]-1])\n",
    "    y.append(dataset_scaled[i, dataset_scaled.shape[1]-1])\n",
    "x, y = np.array(x), np.array(y)\n",
    "y = np.reshape(y, (y.shape[0], 1))"
   ]
  },
  {
   "cell_type": "markdown",
   "metadata": {},
   "source": [
    "<b>Splitting the dataset into the Training set and Test set</b>"
   ]
  },
  {
   "cell_type": "code",
   "execution_count": 33,
   "metadata": {},
   "outputs": [],
   "source": [
    "from sklearn.model_selection import train_test_split\n",
    "x_train, x_test, y_train, y_test = train_test_split(x, y, test_size = test_size, random_state = 0)"
   ]
  },
  {
   "cell_type": "markdown",
   "metadata": {},
   "source": [
    "# Part 2 - Building the LSTM"
   ]
  },
  {
   "cell_type": "markdown",
   "metadata": {},
   "source": [
    "Importing the Keras libraries and packages"
   ]
  },
  {
   "cell_type": "code",
   "execution_count": 34,
   "metadata": {},
   "outputs": [],
   "source": [
    "from keras.models import Sequential\n",
    "from keras.layers import Dense\n",
    "from keras.layers import LSTM\n",
    "from keras.layers import Dropout"
   ]
  },
  {
   "cell_type": "markdown",
   "metadata": {},
   "source": [
    "<b>Build the regressor</b>"
   ]
  },
  {
   "cell_type": "code",
   "execution_count": 35,
   "metadata": {},
   "outputs": [],
   "source": [
    "def build_regressor(hidden_layers, units_per_layer, dropout, optimizer, loss, metrics):\n",
    "    # Initialising the LSTM\n",
    "    regressor = Sequential()    \n",
    "    # Adding the first LSTM layer and some Dropout regularisation\n",
    "    regressor.add(LSTM(units = units_per_layer, return_sequences = True, input_shape = (x_train.shape[1], x_train.shape[2])))\n",
    "    regressor.add(Dropout(dropout))    \n",
    "    # Adding new LSTM hidden layers if needed\n",
    "    for i in range(0, hidden_layers-1):\n",
    "        regressor.add(LSTM(units = units_per_layer, return_sequences = True))\n",
    "        regressor.add(Dropout(dropout))\n",
    "    # Adding the pre-last LSTM layer\n",
    "    regressor.add(LSTM(units = units_per_layer))\n",
    "    regressor.add(Dropout(dropout))    \n",
    "    # Adding the output layer\n",
    "    regressor.add(Dense(units = 1))    \n",
    "    # Compiling the LSTM\n",
    "    regressor.compile(optimizer = optimizer, loss = loss, metrics = metrics)    \n",
    "    return regressor"
   ]
  },
  {
   "cell_type": "markdown",
   "metadata": {},
   "source": [
    "<b>Train the model</b>"
   ]
  },
  {
   "cell_type": "code",
   "execution_count": 37,
   "metadata": {},
   "outputs": [],
   "source": [
    "def fit_regressor(epochs, batch_size):\n",
    "    return regressor.fit(x_train, y_train, epochs = epochs, batch_size = batch_size, validation_data=(x_test, y_test),  shuffle=True)"
   ]
  },
  {
   "cell_type": "markdown",
   "metadata": {},
   "source": [
    "### Start Evaluating and Tuning our LSTM model"
   ]
  },
  {
   "cell_type": "code",
   "execution_count": 43,
   "metadata": {},
   "outputs": [
    {
     "name": "stdout",
     "output_type": "stream",
     "text": [
      "Train on 7976 samples, validate on 1995 samples\n",
      "Epoch 1/20\n",
      "7976/7976 [==============================] - 34s 4ms/step - loss: 0.0139 - acc: 1.2538e-04 - val_loss: 7.3178e-04 - val_acc: 5.0125e-04\n",
      "Epoch 2/20\n",
      "7976/7976 [==============================] - 30s 4ms/step - loss: 4.9818e-04 - acc: 1.2538e-04 - val_loss: 4.4072e-04 - val_acc: 5.0125e-04\n",
      "Epoch 3/20\n",
      "7976/7976 [==============================] - 29s 4ms/step - loss: 4.0702e-04 - acc: 1.2538e-04 - val_loss: 3.9599e-04 - val_acc: 5.0125e-04\n",
      "Epoch 4/20\n",
      "7976/7976 [==============================] - 30s 4ms/step - loss: 3.6741e-04 - acc: 1.2538e-04 - val_loss: 3.6840e-04 - val_acc: 5.0125e-04\n",
      "Epoch 5/20\n",
      "7976/7976 [==============================] - 30s 4ms/step - loss: 3.5061e-04 - acc: 1.2538e-04 - val_loss: 3.9922e-04 - val_acc: 5.0125e-04\n",
      "Epoch 6/20\n",
      "7976/7976 [==============================] - 30s 4ms/step - loss: 3.2698e-04 - acc: 1.2538e-04 - val_loss: 3.2455e-04 - val_acc: 5.0125e-04\n",
      "Epoch 7/20\n",
      "7976/7976 [==============================] - 29s 4ms/step - loss: 3.1002e-04 - acc: 1.2538e-04 - val_loss: 2.9927e-04 - val_acc: 5.0125e-04\n",
      "Epoch 8/20\n",
      "7976/7976 [==============================] - 31s 4ms/step - loss: 2.8852e-04 - acc: 1.2538e-04 - val_loss: 2.8248e-04 - val_acc: 5.0125e-04\n",
      "Epoch 9/20\n",
      "7976/7976 [==============================] - 31s 4ms/step - loss: 2.6630e-04 - acc: 1.2538e-04 - val_loss: 2.7229e-04 - val_acc: 5.0125e-04\n",
      "Epoch 10/20\n",
      "7976/7976 [==============================] - 29s 4ms/step - loss: 2.5333e-04 - acc: 1.2538e-04 - val_loss: 2.4238e-04 - val_acc: 5.0125e-04\n",
      "Epoch 11/20\n",
      "7976/7976 [==============================] - 29s 4ms/step - loss: 2.6409e-04 - acc: 1.2538e-04 - val_loss: 3.1845e-04 - val_acc: 5.0125e-04\n",
      "Epoch 12/20\n",
      "7976/7976 [==============================] - 31s 4ms/step - loss: 2.4470e-04 - acc: 1.2538e-04 - val_loss: 6.7654e-04 - val_acc: 5.0125e-04\n",
      "Epoch 13/20\n",
      "7976/7976 [==============================] - 29s 4ms/step - loss: 2.8478e-04 - acc: 1.2538e-04 - val_loss: 2.1569e-04 - val_acc: 5.0125e-04\n",
      "Epoch 14/20\n",
      "7976/7976 [==============================] - 34s 4ms/step - loss: 2.1553e-04 - acc: 1.2538e-04 - val_loss: 1.9948e-04 - val_acc: 5.0125e-04\n",
      "Epoch 15/20\n",
      "7976/7976 [==============================] - 30s 4ms/step - loss: 2.0103e-04 - acc: 1.2538e-04 - val_loss: 2.1198e-04 - val_acc: 5.0125e-04\n",
      "Epoch 16/20\n",
      "7976/7976 [==============================] - 30s 4ms/step - loss: 1.8954e-04 - acc: 1.2538e-04 - val_loss: 1.7077e-04 - val_acc: 5.0125e-04\n",
      "Epoch 17/20\n",
      "7976/7976 [==============================] - 31s 4ms/step - loss: 2.0673e-04 - acc: 1.2538e-04 - val_loss: 2.5462e-04 - val_acc: 5.0125e-04\n",
      "Epoch 18/20\n",
      "7976/7976 [==============================] - 32s 4ms/step - loss: 1.7774e-04 - acc: 1.2538e-04 - val_loss: 1.6563e-04 - val_acc: 5.0125e-04\n",
      "Epoch 19/20\n",
      "7976/7976 [==============================] - 30s 4ms/step - loss: 1.5494e-04 - acc: 1.2538e-04 - val_loss: 1.5002e-04 - val_acc: 5.0125e-04\n",
      "Epoch 20/20\n",
      "7976/7976 [==============================] - 31s 4ms/step - loss: 1.4863e-04 - acc: 1.2538e-04 - val_loss: 1.3394e-04 - val_acc: 5.0125e-04\n"
     ]
    },
    {
     "data": {
      "image/png": "[encoded data removed]",
      "text/plain": [
       "<matplotlib.figure.Figure at 0x26c156e59e8>"
      ]
     },
     "metadata": {
      "needs_background": "light"
     },
     "output_type": "display_data"
    },
    {
     "name": "stdout",
     "output_type": "stream",
     "text": [
      "Layers:\t\t 2 \n",
      "Units per layer: 50 \n",
      "Dropout:\t 0.0 \n",
      "Batch size:\t 128 \n",
      "Epochs:\t\t 20 \n",
      "Optimizer:\t <keras.optimizers.Adam object at 0x0000026C030B7390> \n",
      "Loss function:\t mean_squared_error \n",
      "Metrics:\t accuracy \n",
      "Loss (Train):\t 0.00014862555752374296 \n",
      "Loss (Test):\t 0.00013393606839002457 \n",
      "\n",
      "\n"
     ]
    }
   ],
   "source": [
    "import matplotlib.pyplot as plt\n",
    "results = []\n",
    "best_parameters = []\n",
    "best_loss = float(\"inf\")\n",
    "best_model = Sequential()  \n",
    "for layers in parameters[\"hidden_layers\"]:\n",
    "    for units_per_layer in parameters[\"units_per_layer\"]:\n",
    "        for dropout in parameters[\"dropout\"]:\n",
    "            for batch_size in parameters[\"batch_size\"]:\n",
    "                for epochs in parameters[\"epochs\"]:\n",
    "                    for optimizer in parameters[\"optimizer\"]:\n",
    "                        for loss in parameters[\"loss\"]:\n",
    "                            for metrics in parameters[\"metrics\"]:\n",
    "                                regressor = build_regressor(int(layers), units_per_layer, dropout, optimizer, loss, [metrics])\n",
    "                                history = fit_regressor(epochs, batch_size)\n",
    "                                results.append([layers, units_per_layer, dropout, batch_size, epochs, optimizer, loss, metrics, \n",
    "                                                float(history.history['loss'][0]), float(history.history['val_loss'][0])])                                \n",
    "                                plt.plot(history.history['val_loss'][2:epochs], color = 'blue', label = 'Test')\n",
    "                                plt.plot(history.history['loss'][2:epochs], color = 'red', label = 'Train')\n",
    "                                plt.xlabel('Epochs')\n",
    "                                plt.ylabel('Error')\n",
    "                                plt.legend()\n",
    "                                plt.show()\n",
    "                                print('Layers:\\t\\t',layers,'\\nUnits per layer:',units_per_layer,'\\nDropout:\\t',dropout,'\\nBatch size:\\t', batch_size, \n",
    "                                      '\\nEpochs:\\t\\t',epochs,'\\nOptimizer:\\t',optimizer,'\\nLoss function:\\t',loss,'\\nMetrics:\\t',metrics,\n",
    "                                      '\\nLoss (Train):\\t',history.history['loss'][epochs-1],'\\nLoss (Test):\\t',history.history['val_loss'][epochs-1],'\\n\\n')\n",
    "                                # Keep the best model\n",
    "                                if float(history.history['loss'][epochs-1]) < best_loss:\n",
    "                                    best_model = regressor                                 \n",
    "                                    best_loss = float(history.history['loss'][0])\n",
    "                                    best_parameters.clear()\n",
    "                                    best_parameters.append([layers, units_per_layer, dropout, batch_size, epochs, optimizer, loss, metrics,\n",
    "                                                           float(history.history['loss'][0]), float(history.history['val_loss'][0]),\n",
    "                                                           float(history.history['acc'][0]), float(history.history['val_acc'][0])])"
   ]
  },
  {
   "cell_type": "markdown",
   "metadata": {},
   "source": [
    "Show the best parameters"
   ]
  },
  {
   "cell_type": "code",
   "execution_count": 44,
   "metadata": {},
   "outputs": [
    {
     "name": "stdout",
     "output_type": "stream",
     "text": [
      "************* Best parameters *************\n",
      "* Layers:\t 2 \n",
      "* Units:\t 50 \n",
      "* Dropout:\t 0.0 \n",
      "* Batch size:\t 128 \n",
      "* Epochs:\t 20 \n",
      "* Optimizer:\t <keras.optimizers.Adam object at 0x0000026C030B7390> \n",
      "* Loss function: mean_squared_error \n",
      "* Metrics:\t accuracy \n",
      "* Loss (Train):\t 0.013881271123480232 \n",
      "* Loss (Test):\t 0.0007317768081609524\n",
      "\n",
      "*******************************************\n",
      "\n"
     ]
    }
   ],
   "source": [
    "print('************* Best parameters *************')\n",
    "print('* Layers:\\t',best_parameters[0][0],'\\n* Units:\\t',best_parameters[0][1],'\\n* Dropout:\\t',best_parameters[0][2],'\\n* Batch size:\\t', \n",
    "      best_parameters[0][3],'\\n* Epochs:\\t',best_parameters[0][4],'\\n* Optimizer:\\t',best_parameters[0][5],'\\n* Loss function:',best_parameters[0][6],\n",
    "      '\\n* Metrics:\\t',best_parameters[0][7],'\\n* Loss (Train):\\t',best_parameters[0][8],'\\n* Loss (Test):\\t',best_parameters[0][9])\n",
    "\n",
    "print('\\n*******************************************\\n')"
   ]
  },
  {
   "cell_type": "markdown",
   "metadata": {},
   "source": [
    "## Part 3 - Making a single prediction"
   ]
  },
  {
   "cell_type": "markdown",
   "metadata": {},
   "source": [
    "INSERT HERE your timeseries in this array [Timesteps]x[Features]"
   ]
  },
  {
   "cell_type": "code",
   "execution_count": 45,
   "metadata": {},
   "outputs": [],
   "source": [
    "for_predict = x_test[0,:] # For example, take the first timeseries of the Test set"
   ]
  },
  {
   "cell_type": "markdown",
   "metadata": {},
   "source": [
    "<b>Reshape and predict</b><br>\n",
    "It will use the best trained regressor"
   ]
  },
  {
   "cell_type": "code",
   "execution_count": 46,
   "metadata": {},
   "outputs": [],
   "source": [
    "for_predict = np.reshape(for_predict, (1,for_predict.shape[0], for_predict.shape[1]))\n",
    "predictions_scaled = best_model.predict(for_predict)"
   ]
  },
  {
   "cell_type": "markdown",
   "metadata": {},
   "source": [
    "<b>Invert MinMax transform</b><br>\n",
    "Our scaler have used a specific array size.<br>\n",
    "We have to add some padding to be able to inverse the transform correctly."
   ]
  },
  {
   "cell_type": "code",
   "execution_count": 47,
   "metadata": {},
   "outputs": [],
   "source": [
    "padding = np.zeros((for_predict.shape[0],dataset.shape[1]-1))\n",
    "predictions_scaled = np.append(padding, predictions_scaled, axis=1)\n",
    "predictions_scaled = sc.inverse_transform(predictions_scaled)\n",
    "predictions = predictions_scaled[:,dataset_scaled.shape[1]-1]"
   ]
  },
  {
   "cell_type": "markdown",
   "metadata": {},
   "source": [
    "<b>Calculate RMSE for the new predictions</b><br>\n",
    "ADD HERE the actual values to the actual_values (without normalization)"
   ]
  },
  {
   "cell_type": "code",
   "execution_count": 48,
   "metadata": {},
   "outputs": [],
   "source": [
    "actual_values = [1.110] # Just an example"
   ]
  },
  {
   "cell_type": "markdown",
   "metadata": {},
   "source": [
    "Calculate RMS"
   ]
  },
  {
   "cell_type": "code",
   "execution_count": 49,
   "metadata": {},
   "outputs": [
    {
     "name": "stdout",
     "output_type": "stream",
     "text": [
      "Predictions RMSE: 0.082\n"
     ]
    }
   ],
   "source": [
    "from math import sqrt\n",
    "from sklearn.metrics import mean_squared_error\n",
    "rmse = sqrt(mean_squared_error(predictions, actual_values))\n",
    "print('Predictions RMSE: %.3f' % rmse)"
   ]
  }
 ],
 "metadata": {
  "anaconda-cloud": {},
  "kernelspec": {
   "display_name": "Python [conda env:ml]",
   "language": "python",
   "name": "conda-env-ml-py"
  },
  "language_info": {
   "codemirror_mode": {
    "name": "ipython",
    "version": 3
   },
   "file_extension": ".py",
   "mimetype": "text/x-python",
   "name": "python",
   "nbconvert_exporter": "python",
   "pygments_lexer": "ipython3",
   "version": "3.5.6"
  }
 },
 "nbformat": 4,
 "nbformat_minor": 1
}
